{
 "cells": [
  {
   "cell_type": "code",
   "execution_count": 1,
   "id": "9ac69c74-b529-43c3-a722-8823f83e0332",
   "metadata": {},
   "outputs": [],
   "source": [
    "%reload_ext autoreload\n",
    "%autoreload 2"
   ]
  },
  {
   "cell_type": "code",
   "execution_count": 3,
   "id": "a52ff82c-75b1-445f-bd8d-580a2b61235f",
   "metadata": {},
   "outputs": [],
   "source": [
    "from pathlib import Path\n",
    "import json\n",
    "import pigeonXT as pixt"
   ]
  },
  {
   "cell_type": "markdown",
   "id": "8a1ec864-8c74-4734-8286-711979733b3c",
   "metadata": {},
   "source": [
    "### Load the job data"
   ]
  },
  {
   "cell_type": "code",
   "execution_count": 64,
   "id": "eeb8506e-3aae-4f1f-8296-135ab2f240d8",
   "metadata": {},
   "outputs": [
    {
     "name": "stdout",
     "output_type": "stream",
     "text": [
      "49 jobs loaded.\n"
     ]
    }
   ],
   "source": [
    "with Path('../data/job_listings.jsonl').open('r') as f:\n",
    "    job_data = [json.loads(job_listing) for job_listing in f.readlines()]\n",
    "job_data = [dct for dct in job_data if len(dct['text']) > 100]\n",
    "print(f'{len(job_data):,} jobs loaded.')"
   ]
  },
  {
   "cell_type": "markdown",
   "id": "388c2cf4-b351-4cd7-b415-352f83c98c5d",
   "metadata": {
    "tags": []
   },
   "source": [
    "### Annotate the job data"
   ]
  },
  {
   "cell_type": "code",
   "execution_count": 65,
   "id": "19184c34-405d-4bf2-b483-5d7f8d01bce2",
   "metadata": {
    "tags": []
   },
   "outputs": [
    {
     "data": {
      "application/vnd.jupyter.widget-view+json": {
       "model_id": "8e0dca8daccf49a38ce69ca7dd8fbd18",
       "version_major": 2,
       "version_minor": 0
      },
      "text/plain": [
       "HTML(value='0 of 49 Examples annotated, Current Position: 0 ')"
      ]
     },
     "metadata": {},
     "output_type": "display_data"
    },
    {
     "data": {
      "application/vnd.jupyter.widget-view+json": {
       "model_id": "c096724620bc4cfab443ad79e7bdbf38",
       "version_major": 2,
       "version_minor": 0
      },
      "text/plain": [
       "HBox(children=(Button(description='Relevant', style=ButtonStyle()), Button(description='Irrelevant', style=But…"
      ]
     },
     "metadata": {},
     "output_type": "display_data"
    },
    {
     "data": {
      "application/vnd.jupyter.widget-view+json": {
       "model_id": "7c54ad3af07e4167828d71ae6d801e6f",
       "version_major": 2,
       "version_minor": 0
      },
      "text/plain": [
       "Output()"
      ]
     },
     "metadata": {},
     "output_type": "display_data"
    }
   ],
   "source": [
    "annotations = pixt.annotate(job_data,\n",
    "                            options=['Relevant', 'Irrelevant'],\n",
    "                            display_fn=lambda x: print(x['text'].replace('\\n', '\\n\\n')))"
   ]
  },
  {
   "cell_type": "markdown",
   "id": "bf4af1e1-9841-4488-a60c-7c2c42535ad5",
   "metadata": {
    "tags": []
   },
   "source": [
    "### Store the job data"
   ]
  },
  {
   "cell_type": "code",
   "execution_count": 24,
   "id": "89ba8efe-6f23-4926-823b-fce1964e9282",
   "metadata": {},
   "outputs": [],
   "source": [
    "with Path('../data/job_listings.jsonl').open('w') as f:\n",
    "    for _, row in annotations.iterrows():\n",
    "        job_listing = row.example\n",
    "        if row.changed:\n",
    "            job_listing['label'] = row.label\n",
    "        f.write(json.dumps(job_listing))\n",
    "        f.write('\\n')"
   ]
  }
 ],
 "metadata": {
  "kernelspec": {
   "display_name": "Python 3 (ipykernel)",
   "language": "python",
   "name": "python3"
  },
  "language_info": {
   "codemirror_mode": {
    "name": "ipython",
    "version": 3
   },
   "file_extension": ".py",
   "mimetype": "text/x-python",
   "name": "python",
   "nbconvert_exporter": "python",
   "pygments_lexer": "ipython3",
   "version": "3.8.3"
  }
 },
 "nbformat": 4,
 "nbformat_minor": 5
}
