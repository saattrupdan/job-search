{
 "cells": [
  {
   "cell_type": "code",
   "execution_count": 23,
   "id": "9ac69c74-b529-43c3-a722-8823f83e0332",
   "metadata": {},
   "outputs": [],
   "source": [
    "%reload_ext autoreload\n",
    "%autoreload 2"
   ]
  },
  {
   "cell_type": "code",
   "execution_count": 24,
   "id": "a52ff82c-75b1-445f-bd8d-580a2b61235f",
   "metadata": {},
   "outputs": [],
   "source": [
    "from pathlib import Path\n",
    "import json\n",
    "import pandas as pd\n",
    "import pigeonXT as pixt"
   ]
  },
  {
   "cell_type": "markdown",
   "id": "8a1ec864-8c74-4734-8286-711979733b3c",
   "metadata": {},
   "source": [
    "### Load the job data"
   ]
  },
  {
   "cell_type": "code",
   "execution_count": 25,
   "id": "eeb8506e-3aae-4f1f-8296-135ab2f240d8",
   "metadata": {},
   "outputs": [
    {
     "name": "stdout",
     "output_type": "stream",
     "text": [
      "46 jobs loaded.\n"
     ]
    }
   ],
   "source": [
    "with Path('../data/job_listings.jsonl').open('r') as f:\n",
    "    job_data = [json.loads(job_listing) for job_listing in f.readlines()]\n",
    "print(f'{len(job_data):,} jobs loaded.')"
   ]
  },
  {
   "cell_type": "code",
   "execution_count": 26,
   "id": "651b99d0-ed7e-4964-993e-3a116f0a91b2",
   "metadata": {},
   "outputs": [
    {
     "name": "stdout",
     "output_type": "stream",
     "text": [
      "There are 46 jobs that need to be labelled.\n"
     ]
    }
   ],
   "source": [
    "records = [dct for dct in job_data if 'label' not in dct]\n",
    "job_data_no_labels = pd.DataFrame.from_records(records).drop_duplicates('url')\n",
    "print(f'There are {len(job_data_no_labels):,} jobs that need to be labelled.')"
   ]
  },
  {
   "cell_type": "code",
   "execution_count": 28,
   "id": "66739b28-641b-45f7-bea0-9904d6f747d1",
   "metadata": {},
   "outputs": [
    {
     "name": "stdout",
     "output_type": "stream",
     "text": [
      "https://thehub.io/jobs/60e31b30160e022987f13a1b\n",
      "https://thehub.io/jobs/621eabac2ec0c0f66713858c\n",
      "https://thehub.io/jobs/61800ea65a845545af5fb17f\n",
      "https://thehub.io/jobs/622156b62e9f0cf67f5f212f\n",
      "https://thehub.io/jobs/61fbf49adf8da32676446d4f\n",
      "https://thehub.io/jobs/61dc28220e604c235b0cf60d\n",
      "https://thehub.io/jobs/619f7b847868de40a00444dc\n",
      "https://thehub.io/jobs/62277d32542690823c3d74fd\n",
      "https://thehub.io/jobs/6218beaa714ad5ad96744b15\n",
      "https://thehub.io/jobs/621f356c2ec0c0f6673a665a\n",
      "https://thehub.io/jobs/62066cf97d3d85764a3fbb2d\n",
      "https://thehub.io/jobs/620a097ff2508b00c9d20b7a\n",
      "https://thehub.io/jobs/622a0720542690823c28c363\n",
      "https://thehub.io/jobs/61deaefe92ab65380d0e8098\n",
      "https://thehub.io/jobs/6151878a473d4e03d5374f64\n",
      "https://thehub.io/jobs/61681beaef2718314864cfd8\n",
      "https://thehub.io/jobs/622be283fbc3526f42568ad9\n",
      "https://thehub.io/jobs/61d401adf6427d22275e6990\n"
     ]
    }
   ],
   "source": [
    "for dct in job_data:\n",
    "    if dct['cleaned_text'].startswith('the hub'):\n",
    "        print(dct['url'])"
   ]
  },
  {
   "cell_type": "markdown",
   "id": "388c2cf4-b351-4cd7-b415-352f83c98c5d",
   "metadata": {
    "tags": []
   },
   "source": [
    "### Annotate the job data"
   ]
  },
  {
   "cell_type": "code",
   "execution_count": 27,
   "id": "19184c34-405d-4bf2-b483-5d7f8d01bce2",
   "metadata": {
    "tags": []
   },
   "outputs": [
    {
     "data": {
      "application/vnd.jupyter.widget-view+json": {
       "model_id": "7928643f85fa44c688a70bc5a3b1c204",
       "version_major": 2,
       "version_minor": 0
      },
      "text/plain": [
       "HTML(value='0 of 46 Examples annotated, Current Position: 0 ')"
      ]
     },
     "metadata": {},
     "output_type": "display_data"
    },
    {
     "data": {
      "application/vnd.jupyter.widget-view+json": {
       "model_id": "063831e7ca8c474a9a724f4f6d9d1298",
       "version_major": 2,
       "version_minor": 0
      },
      "text/plain": [
       "HBox(children=(Button(description='Relevant', style=ButtonStyle()), Button(description='Irrelevant', style=But…"
      ]
     },
     "metadata": {},
     "output_type": "display_data"
    },
    {
     "data": {
      "application/vnd.jupyter.widget-view+json": {
       "model_id": "d1876ea06e3d48d196b9aa1e171552d0",
       "version_major": 2,
       "version_minor": 0
      },
      "text/plain": [
       "Output()"
      ]
     },
     "metadata": {},
     "output_type": "display_data"
    }
   ],
   "source": [
    "annotations = pixt.annotate(job_data_no_labels,\n",
    "                            options=['Relevant', 'Irrelevant'],\n",
    "                            example_column='cleaned_text',\n",
    "                            display_fn=lambda x: print(x.replace('\\n', '\\n\\n')))"
   ]
  },
  {
   "cell_type": "markdown",
   "id": "bf4af1e1-9841-4488-a60c-7c2c42535ad5",
   "metadata": {
    "tags": []
   },
   "source": [
    "### Store the job data"
   ]
  },
  {
   "cell_type": "code",
   "execution_count": 30,
   "id": "e2b071ce-d04f-4f33-bb74-a1a3b9597723",
   "metadata": {
    "tags": []
   },
   "outputs": [],
   "source": [
    "labels = annotations.copy()\n",
    "labels = (labels.query('changed == True')\n",
    "                .drop(columns=['text', 'cleaned_text', 'changed'])\n",
    "                .set_index('url')\n",
    "                .label)"
   ]
  },
  {
   "cell_type": "code",
   "execution_count": 11,
   "id": "89ba8efe-6f23-4926-823b-fce1964e9282",
   "metadata": {},
   "outputs": [
    {
     "name": "stdout",
     "output_type": "stream",
     "text": [
      "Stored 658 job listings.\n"
     ]
    }
   ],
   "source": [
    "with Path('../data/job_listings.jsonl').open('w') as f:\n",
    "    for dct in job_data:\n",
    "        if 'label' not in dct and dct['url'] in labels:\n",
    "            dct['label'] = labels[dct['url']]\n",
    "        f.write(json.dumps(dct))\n",
    "        f.write('\\n')\n",
    "print(f'Stored {len(job_data):,} job listings.')"
   ]
  }
 ],
 "metadata": {
  "kernelspec": {
   "display_name": "Python 3 (ipykernel)",
   "language": "python",
   "name": "python3"
  },
  "language_info": {
   "codemirror_mode": {
    "name": "ipython",
    "version": 3
   },
   "file_extension": ".py",
   "mimetype": "text/x-python",
   "name": "python",
   "nbconvert_exporter": "python",
   "pygments_lexer": "ipython3",
   "version": "3.8.3"
  }
 },
 "nbformat": 4,
 "nbformat_minor": 5
}
