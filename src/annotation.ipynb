{
 "cells": [
  {
   "cell_type": "code",
   "execution_count": 1,
   "id": "9ac69c74-b529-43c3-a722-8823f83e0332",
   "metadata": {},
   "outputs": [],
   "source": [
    "%reload_ext autoreload\n",
    "%autoreload 2"
   ]
  },
  {
   "cell_type": "code",
   "execution_count": 2,
   "id": "a52ff82c-75b1-445f-bd8d-580a2b61235f",
   "metadata": {},
   "outputs": [],
   "source": [
    "from pathlib import Path\n",
    "import json\n",
    "import pandas as pd\n",
    "import pigeonXT as pixt"
   ]
  },
  {
   "cell_type": "markdown",
   "id": "8a1ec864-8c74-4734-8286-711979733b3c",
   "metadata": {},
   "source": [
    "### Load the job data"
   ]
  },
  {
   "cell_type": "code",
   "execution_count": 3,
   "id": "eeb8506e-3aae-4f1f-8296-135ab2f240d8",
   "metadata": {},
   "outputs": [
    {
     "name": "stdout",
     "output_type": "stream",
     "text": [
      "51 jobs loaded.\n"
     ]
    }
   ],
   "source": [
    "with Path('../data/job_listings.jsonl').open('r') as f:\n",
    "    job_data = [json.loads(job_listing) for job_listing in f.readlines()]\n",
    "print(f'{len(job_data):,} jobs loaded.')"
   ]
  },
  {
   "cell_type": "code",
   "execution_count": 4,
   "id": "651b99d0-ed7e-4964-993e-3a116f0a91b2",
   "metadata": {},
   "outputs": [
    {
     "name": "stdout",
     "output_type": "stream",
     "text": [
      "There are 51 jobs that need to be labelled.\n"
     ]
    }
   ],
   "source": [
    "records = [dct for dct in job_data if 'label' not in dct]\n",
    "job_data_no_labels = pd.DataFrame.from_records(records).drop_duplicates('url')\n",
    "print(f'There are {len(job_data_no_labels):,} jobs that need to be labelled.')"
   ]
  },
  {
   "cell_type": "markdown",
   "id": "388c2cf4-b351-4cd7-b415-352f83c98c5d",
   "metadata": {
    "tags": []
   },
   "source": [
    "### Annotate the job data"
   ]
  },
  {
   "cell_type": "code",
   "execution_count": 5,
   "id": "19184c34-405d-4bf2-b483-5d7f8d01bce2",
   "metadata": {
    "tags": []
   },
   "outputs": [
    {
     "data": {
      "application/vnd.jupyter.widget-view+json": {
       "model_id": "2e95f3ecff504cfa9c0e2764666e2a48",
       "version_major": 2,
       "version_minor": 0
      },
      "text/plain": [
       "HTML(value='0 of 51 Examples annotated, Current Position: 0 ')"
      ]
     },
     "metadata": {},
     "output_type": "display_data"
    },
    {
     "data": {
      "application/vnd.jupyter.widget-view+json": {
       "model_id": "8d104f8e15e7435faa915a76abee35a8",
       "version_major": 2,
       "version_minor": 0
      },
      "text/plain": [
       "HBox(children=(Button(description='Relevant', style=ButtonStyle()), Button(description='Irrelevant', style=But…"
      ]
     },
     "metadata": {},
     "output_type": "display_data"
    },
    {
     "data": {
      "application/vnd.jupyter.widget-view+json": {
       "model_id": "487da56ff7cd4d1482d45659fecdfcf0",
       "version_major": 2,
       "version_minor": 0
      },
      "text/plain": [
       "Output()"
      ]
     },
     "metadata": {},
     "output_type": "display_data"
    }
   ],
   "source": [
    "annotations = pixt.annotate(job_data_no_labels,\n",
    "                            options=['Relevant', 'Irrelevant'],\n",
    "                            example_column='cleaned_text',\n",
    "                            display_fn=lambda x: print(x.replace('\\n', '\\n\\n')))"
   ]
  },
  {
   "cell_type": "markdown",
   "id": "bf4af1e1-9841-4488-a60c-7c2c42535ad5",
   "metadata": {
    "tags": []
   },
   "source": [
    "### Store the job data"
   ]
  },
  {
   "cell_type": "code",
   "execution_count": 6,
   "id": "e2b071ce-d04f-4f33-bb74-a1a3b9597723",
   "metadata": {
    "tags": []
   },
   "outputs": [],
   "source": [
    "labels = annotations.copy()\n",
    "labels = (labels.query('changed == True')\n",
    "                .drop(columns=['text', 'cleaned_text', 'changed'])\n",
    "                .set_index('url')\n",
    "                .label)"
   ]
  },
  {
   "cell_type": "code",
   "execution_count": 7,
   "id": "89ba8efe-6f23-4926-823b-fce1964e9282",
   "metadata": {},
   "outputs": [
    {
     "name": "stdout",
     "output_type": "stream",
     "text": [
      "Stored 51 job listings.\n"
     ]
    }
   ],
   "source": [
    "with Path('../data/job_listings.jsonl').open('w') as f:\n",
    "    for dct in job_data:\n",
    "        if 'label' not in dct and dct['url'] in labels:\n",
    "            dct['label'] = labels[dct['url']]\n",
    "        f.write(json.dumps(dct))\n",
    "        f.write('\\n')\n",
    "print(f'Stored {len(job_data):,} job listings.')"
   ]
  }
 ],
 "metadata": {
  "kernelspec": {
   "display_name": "Python 3 (ipykernel)",
   "language": "python",
   "name": "python3"
  },
  "language_info": {
   "codemirror_mode": {
    "name": "ipython",
    "version": 3
   },
   "file_extension": ".py",
   "mimetype": "text/x-python",
   "name": "python",
   "nbconvert_exporter": "python",
   "pygments_lexer": "ipython3",
   "version": "3.8.3"
  }
 },
 "nbformat": 4,
 "nbformat_minor": 5
}
