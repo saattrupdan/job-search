{
 "cells": [
  {
   "cell_type": "code",
   "execution_count": 1,
   "id": "9ac69c74-b529-43c3-a722-8823f83e0332",
   "metadata": {},
   "outputs": [],
   "source": [
    "%reload_ext autoreload\n",
    "%autoreload 2"
   ]
  },
  {
   "cell_type": "code",
   "execution_count": 2,
   "id": "a52ff82c-75b1-445f-bd8d-580a2b61235f",
   "metadata": {},
   "outputs": [],
   "source": [
    "from pathlib import Path\n",
    "import json\n",
    "import pandas as pd\n",
    "import pigeonXT as pixt"
   ]
  },
  {
   "cell_type": "markdown",
   "id": "8a1ec864-8c74-4734-8286-711979733b3c",
   "metadata": {},
   "source": [
    "### Load the job data"
   ]
  },
  {
   "cell_type": "markdown",
   "id": "7a695a13-5f0d-426c-b6d6-b47240bedaf6",
   "metadata": {},
   "source": [
    "Load all the job listings:"
   ]
  },
  {
   "cell_type": "code",
   "execution_count": 4,
   "id": "eeb8506e-3aae-4f1f-8296-135ab2f240d8",
   "metadata": {},
   "outputs": [
    {
     "name": "stdout",
     "output_type": "stream",
     "text": [
      "58 jobs loaded.\n"
     ]
    }
   ],
   "source": [
    "with Path('../data/job_listings.jsonl').open('r') as f:\n",
    "    job_listings = [json.loads(dct) for dct in f.readlines()]\n",
    "print(f'{len(job_listings):,} jobs loaded.')"
   ]
  },
  {
   "cell_type": "markdown",
   "id": "65dd903d-d09e-4956-96a0-12ff9a336dca",
   "metadata": {},
   "source": [
    "Filter the job listings, keeping only the unannotated ones:"
   ]
  },
  {
   "cell_type": "code",
   "execution_count": 7,
   "id": "ef15d220-2423-478a-81c6-d4ad5fce0109",
   "metadata": {},
   "outputs": [
    {
     "name": "stdout",
     "output_type": "stream",
     "text": [
      "7 jobs not labelled.\n"
     ]
    }
   ],
   "source": [
    "with Path('../data/job_listing_paragraphs.jsonl').open('r') as f:\n",
    "    labelled_urls = [json.loads(dct)['url'] for dct in f.readlines()]\n",
    "job_listings = [dct for dct in job_listings if dct['url'] not in labelled_urls]\n",
    "print(f'{len(job_listings):,} jobs not labelled.')"
   ]
  },
  {
   "cell_type": "code",
   "execution_count": 8,
   "id": "651b99d0-ed7e-4964-993e-3a116f0a91b2",
   "metadata": {},
   "outputs": [
    {
     "name": "stdout",
     "output_type": "stream",
     "text": [
      "Extracted 84 paragraphs.\n"
     ]
    }
   ],
   "source": [
    "records = [dct for dct in job_listings]\n",
    "df = pd.DataFrame.from_records(records).drop_duplicates('url')\n",
    "df['cleaned_text'] = df.cleaned_text.str.split('\\n')\n",
    "df = df.explode('cleaned_text').reset_index(drop=True)\n",
    "print(f'Extracted {len(df):,} paragraphs.')"
   ]
  },
  {
   "cell_type": "markdown",
   "id": "388c2cf4-b351-4cd7-b415-352f83c98c5d",
   "metadata": {
    "tags": []
   },
   "source": [
    "### Annotate the job data"
   ]
  },
  {
   "cell_type": "code",
   "execution_count": 9,
   "id": "19184c34-405d-4bf2-b483-5d7f8d01bce2",
   "metadata": {
    "tags": []
   },
   "outputs": [
    {
     "data": {
      "application/vnd.jupyter.widget-view+json": {
       "model_id": "7fa67d9e8ed0452c8c14396759c9bef0",
       "version_major": 2,
       "version_minor": 0
      },
      "text/plain": [
       "HTML(value='0 of 84 Examples annotated, Current Position: 0 ')"
      ]
     },
     "metadata": {},
     "output_type": "display_data"
    },
    {
     "data": {
      "application/vnd.jupyter.widget-view+json": {
       "model_id": "7f43da21c6744748a7b6049b50fdfc40",
       "version_major": 2,
       "version_minor": 0
      },
      "text/plain": [
       "VBox(children=(HBox(children=(ToggleButton(value=False, description='title_or_tasks'), ToggleButton(value=Fals…"
      ]
     },
     "metadata": {},
     "output_type": "display_data"
    },
    {
     "data": {
      "application/vnd.jupyter.widget-view+json": {
       "model_id": "0b5b6dc1db1e48b2b50c2a7c1d064c87",
       "version_major": 2,
       "version_minor": 0
      },
      "text/plain": [
       "Output()"
      ]
     },
     "metadata": {},
     "output_type": "display_data"
    }
   ],
   "source": [
    "annotations = pixt.annotate(df,\n",
    "                            task_type='multilabel-classification',\n",
    "                            options=['title_or_tasks', 'requirements', 'bad'],\n",
    "                            example_column='cleaned_text',\n",
    "                            buttons_in_a_row=3)"
   ]
  },
  {
   "cell_type": "markdown",
   "id": "bf4af1e1-9841-4488-a60c-7c2c42535ad5",
   "metadata": {
    "tags": []
   },
   "source": [
    "### Store the job data"
   ]
  },
  {
   "cell_type": "code",
   "execution_count": 10,
   "id": "e2b071ce-d04f-4f33-bb74-a1a3b9597723",
   "metadata": {
    "tags": []
   },
   "outputs": [
    {
     "data": {
      "text/html": [
       "<div>\n",
       "<style scoped>\n",
       "    .dataframe tbody tr th:only-of-type {\n",
       "        vertical-align: middle;\n",
       "    }\n",
       "\n",
       "    .dataframe tbody tr th {\n",
       "        vertical-align: top;\n",
       "    }\n",
       "\n",
       "    .dataframe thead th {\n",
       "        text-align: right;\n",
       "    }\n",
       "</style>\n",
       "<table border=\"1\" class=\"dataframe\">\n",
       "  <thead>\n",
       "    <tr style=\"text-align: right;\">\n",
       "      <th></th>\n",
       "      <th>url</th>\n",
       "      <th>cleaned_text</th>\n",
       "      <th>title_or_tasks</th>\n",
       "      <th>requirements</th>\n",
       "      <th>bad</th>\n",
       "    </tr>\n",
       "  </thead>\n",
       "  <tbody>\n",
       "    <tr>\n",
       "      <th>0</th>\n",
       "      <td>https://apply.recman.no/job_post.php?id=256949...</td>\n",
       "      <td>[the requested page does not exist. please che...</td>\n",
       "      <td>[False]</td>\n",
       "      <td>[False]</td>\n",
       "      <td>[False]</td>\n",
       "    </tr>\n",
       "    <tr>\n",
       "      <th>1</th>\n",
       "      <td>https://thehub.io/jobs/618a75aa216452398acafa78</td>\n",
       "      <td>[join a fast growing music tech scale-up, wher...</td>\n",
       "      <td>[True]</td>\n",
       "      <td>[True]</td>\n",
       "      <td>[True]</td>\n",
       "    </tr>\n",
       "    <tr>\n",
       "      <th>2</th>\n",
       "      <td>https://thehub.io/jobs/62351d2d69d1e654775e6c0a</td>\n",
       "      <td>[product project playground open for planning ...</td>\n",
       "      <td>[False]</td>\n",
       "      <td>[False]</td>\n",
       "      <td>[False]</td>\n",
       "    </tr>\n",
       "    <tr>\n",
       "      <th>3</th>\n",
       "      <td>https://www.dtu.dk/english/about/job-and-caree...</td>\n",
       "      <td>[phd scholarship in cardiac vector flow ultras...</td>\n",
       "      <td>[True, False, False, False, True, True, False,...</td>\n",
       "      <td>[False, False, False, False, False, False, Fal...</td>\n",
       "      <td>[True, False, False, False, False, False, Fals...</td>\n",
       "    </tr>\n",
       "    <tr>\n",
       "      <th>4</th>\n",
       "      <td>https://www.dtu.dk/om-dtu/job-og-karriere/ledi...</td>\n",
       "      <td>[phd scholarship in diamond sensing and optica...</td>\n",
       "      <td>[True, False, False, False, True, False, False...</td>\n",
       "      <td>[False, False, False, False, False, True, Fals...</td>\n",
       "      <td>[True, False, False, False, True, False, False...</td>\n",
       "    </tr>\n",
       "    <tr>\n",
       "      <th>5</th>\n",
       "      <td>https://www.dtu.dk/om-dtu/job-og-karriere/ledi...</td>\n",
       "      <td>[phd scholarship in eco-friendly corrosion inh...</td>\n",
       "      <td>[True, False, False, False, False, True, True,...</td>\n",
       "      <td>[False, False, False, False, False, False, Fal...</td>\n",
       "      <td>[True, False, False, False, False, False, Fals...</td>\n",
       "    </tr>\n",
       "    <tr>\n",
       "      <th>6</th>\n",
       "      <td>https://www.dtu.dk/om-dtu/job-og-karriere/ledi...</td>\n",
       "      <td>[tirsdag 15 mar 22, frist 29. marts 2022, we a...</td>\n",
       "      <td>[False, False, True, False, False, False, Fals...</td>\n",
       "      <td>[False, False, False, True, False, False, True...</td>\n",
       "      <td>[False, False, False, True, False, False, Fals...</td>\n",
       "    </tr>\n",
       "  </tbody>\n",
       "</table>\n",
       "</div>"
      ],
      "text/plain": [
       "                                                 url  \\\n",
       "0  https://apply.recman.no/job_post.php?id=256949...   \n",
       "1    https://thehub.io/jobs/618a75aa216452398acafa78   \n",
       "2    https://thehub.io/jobs/62351d2d69d1e654775e6c0a   \n",
       "3  https://www.dtu.dk/english/about/job-and-caree...   \n",
       "4  https://www.dtu.dk/om-dtu/job-og-karriere/ledi...   \n",
       "5  https://www.dtu.dk/om-dtu/job-og-karriere/ledi...   \n",
       "6  https://www.dtu.dk/om-dtu/job-og-karriere/ledi...   \n",
       "\n",
       "                                        cleaned_text  \\\n",
       "0  [the requested page does not exist. please che...   \n",
       "1  [join a fast growing music tech scale-up, wher...   \n",
       "2  [product project playground open for planning ...   \n",
       "3  [phd scholarship in cardiac vector flow ultras...   \n",
       "4  [phd scholarship in diamond sensing and optica...   \n",
       "5  [phd scholarship in eco-friendly corrosion inh...   \n",
       "6  [tirsdag 15 mar 22, frist 29. marts 2022, we a...   \n",
       "\n",
       "                                      title_or_tasks  \\\n",
       "0                                            [False]   \n",
       "1                                             [True]   \n",
       "2                                            [False]   \n",
       "3  [True, False, False, False, True, True, False,...   \n",
       "4  [True, False, False, False, True, False, False...   \n",
       "5  [True, False, False, False, False, True, True,...   \n",
       "6  [False, False, True, False, False, False, Fals...   \n",
       "\n",
       "                                        requirements  \\\n",
       "0                                            [False]   \n",
       "1                                             [True]   \n",
       "2                                            [False]   \n",
       "3  [False, False, False, False, False, False, Fal...   \n",
       "4  [False, False, False, False, False, True, Fals...   \n",
       "5  [False, False, False, False, False, False, Fal...   \n",
       "6  [False, False, False, True, False, False, True...   \n",
       "\n",
       "                                                 bad  \n",
       "0                                            [False]  \n",
       "1                                             [True]  \n",
       "2                                            [False]  \n",
       "3  [True, False, False, False, False, False, Fals...  \n",
       "4  [True, False, False, False, True, False, False...  \n",
       "5  [True, False, False, False, False, False, Fals...  \n",
       "6  [False, False, False, True, False, False, Fals...  "
      ]
     },
     "execution_count": 10,
     "metadata": {},
     "output_type": "execute_result"
    }
   ],
   "source": [
    "labels = annotations.copy()\n",
    "labels = (labels.query('changed == True')\n",
    "                .drop(columns=['text', 'changed'])\n",
    "                .groupby('url')\n",
    "                .agg(lambda x: list(x))\n",
    "                .reset_index())\n",
    "labels"
   ]
  },
  {
   "cell_type": "code",
   "execution_count": 11,
   "id": "89ba8efe-6f23-4926-823b-fce1964e9282",
   "metadata": {},
   "outputs": [
    {
     "name": "stdout",
     "output_type": "stream",
     "text": [
      "Stored 7 job listing paragraphs.\n"
     ]
    }
   ],
   "source": [
    "with Path('../data/job_listing_paragraphs.jsonl').open('a') as f:\n",
    "    for dct in labels.to_dict('records'):\n",
    "        f.write(json.dumps(dct))\n",
    "        f.write('\\n')\n",
    "print(f'Stored {len(labels):,} job listing paragraphs.')"
   ]
  }
 ],
 "metadata": {
  "kernelspec": {
   "display_name": "Python 3 (ipykernel)",
   "language": "python",
   "name": "python3"
  },
  "language_info": {
   "codemirror_mode": {
    "name": "ipython",
    "version": 3
   },
   "file_extension": ".py",
   "mimetype": "text/x-python",
   "name": "python",
   "nbconvert_exporter": "python",
   "pygments_lexer": "ipython3",
   "version": "3.8.3"
  }
 },
 "nbformat": 4,
 "nbformat_minor": 5
}
